{
 "cells": [
  {
   "cell_type": "code",
   "execution_count": null,
   "metadata": {
    "collapsed": true
   },
   "outputs": [],
   "source": [
    "# Import some numerical math and plotting packages\n",
    "import numpy as np\n",
    "import matplotlib.pyplot as plt\n",
    "%matplotlib inline\n",
    "\n",
    "# Import the MesaProfile package\n",
    "from MesaProfile import MesaProfile\n",
    "\n",
    "# Import the OrderedDict package for working with MesaProfile outputs\n",
    "from collections import OrderedDict"
   ]
  },
  {
   "cell_type": "code",
   "execution_count": null,
   "metadata": {
    "collapsed": true
   },
   "outputs": [],
   "source": [
    "# Read the input MESA profile                                                                                                                                                                                      \n",
    "mesa = MesaProfile('profile64.data')\n",
    "mstar = mesa.getStar()"
   ]
  },
  {
   "cell_type": "code",
   "execution_count": null,
   "metadata": {
    "collapsed": false
   },
   "outputs": [],
   "source": [
    "# List the data fields available in the profile\n",
    "for k in mstar.keys():\n",
    "    print(k)"
   ]
  },
  {
   "cell_type": "code",
   "execution_count": null,
   "metadata": {
    "collapsed": false
   },
   "outputs": [],
   "source": [
    "# Find out what isotopes the profile contains\n",
    "isotope_list = mesa.getIsotopes()\n",
    "nisotopes = len(isotope_list)\n",
    "print('The MESA profile contains {} isotopes.'.format(nisotopes))"
   ]
  },
  {
   "cell_type": "code",
   "execution_count": null,
   "metadata": {
    "collapsed": false
   },
   "outputs": [],
   "source": [
    "# Plot the abundances in the profile                                                                                                                                                                                                     \n",
    "fig, ax = plt.subplots()\n",
    "colormap = plt.get_cmap('viridis')\n",
    "isocolors = [colormap(i) for i in np.linspace(0, 1, nisotopes)]\n",
    "\n",
    "legend_handles = []\n",
    "for i, isotope in enumerate(isotope_list):\n",
    "    handle = ax.plot(mstar['mass'], mstar[isotope], color=isocolors[i], label=isotope)\n",
    "    legend_handles.append(handle)\n",
    "\n",
    "plt.legend(bbox_to_anchor=(1.05, 1), loc=2, borderaxespad=0.)\n",
    "ax.set_xlabel('Mass ($M_\\\\odot$)')\n",
    "ax.set_ylabel('Mass Fractions')"
   ]
  },
  {
   "cell_type": "code",
   "execution_count": null,
   "metadata": {
    "collapsed": false
   },
   "outputs": [],
   "source": [
    "# Plot the electron fraction (Ye) profile\n",
    "fig, ax = plt.subplots()\n",
    "ax.plot(mstar['mass'],mstar['ye'],'b')\n",
    "ax.set_xlabel('Mass ($M_\\\\odot$)')\n",
    "ax.set_ylabel('Electron Fraction ($\\\\mathrm{Y_e}$)')"
   ]
  },
  {
   "cell_type": "code",
   "execution_count": null,
   "metadata": {
    "collapsed": false
   },
   "outputs": [],
   "source": [
    "# Plot the density profile\n",
    "fig, ax = plt.subplots()\n",
    "ax.plot(mstar['mass'],10.0**mstar['logRho'],'b')\n",
    "ax.set_xlabel('Mass ($M_\\\\odot$)')\n",
    "ax.set_ylabel('Density ($g/cm^3$)')"
   ]
  },
  {
   "cell_type": "code",
   "execution_count": null,
   "metadata": {
    "collapsed": false
   },
   "outputs": [],
   "source": [
    "# Plot the temperature profile\n",
    "fig, ax = plt.subplots()\n",
    "ax.plot(mstar['mass'],10.0**mstar['logT'],'b')\n",
    "ax.set_xlabel('Mass ($M_\\\\odot$)')\n",
    "ax.set_ylabel('Temperature ($K$)')"
   ]
  },
  {
   "cell_type": "code",
   "execution_count": null,
   "metadata": {
    "collapsed": false
   },
   "outputs": [],
   "source": [
    "# Plot the mass-radius profile\n",
    "fig, ax = plt.subplots()\n",
    "ax.plot(mstar['radiuscm'],mstar['mass'],'b')\n",
    "ax.set_xlabel('Radius (cm)')\n",
    "ax.set_ylabel('Mass ($M_\\\\odot$)')"
   ]
  },
  {
   "cell_type": "code",
   "execution_count": null,
   "metadata": {
    "collapsed": true
   },
   "outputs": [],
   "source": []
  }
 ],
 "metadata": {
  "anaconda-cloud": {},
  "kernelspec": {
   "display_name": "Python [default]",
   "language": "python",
   "name": "python3"
  },
  "language_info": {
   "codemirror_mode": {
    "name": "ipython",
    "version": 3
   },
   "file_extension": ".py",
   "mimetype": "text/x-python",
   "name": "python",
   "nbconvert_exporter": "python",
   "pygments_lexer": "ipython3",
   "version": "3.5.2"
  }
 },
 "nbformat": 4,
 "nbformat_minor": 1
}
